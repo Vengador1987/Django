{
 "cells": [
  {
   "cell_type": "markdown",
   "id": "412091da",
   "metadata": {},
   "source": [
    "## Admin Page\n",
    "\n",
    "**`localhost:8000/admin/`**\n",
    "\n",
    "Para acceder a esta página como administrador tenemos que crear un **\"super usuario\"** usando la consola.\n",
    "\n",
    "Vamos a la consola y pongamos la ruta donde se encuentra el archivo **`manage.py`** y ejecutamos el siguiente comando:\n",
    "\n",
    "```python\n",
    "python manage.py createsuperuser\n",
    "```\n",
    "Y... Nos saldrá un error: **`OperationalError: no such table: auth_user`**\n",
    "\n",
    "Esto es porque no hemos creado la tabla donde se almacenará la información de los **`super usuarios`**. Para crear las tablas debemos hacer una **`migration`** (migración):\n",
    "\n",
    "```python\n",
    "python manage.py makemigrations\n",
    "\n",
    "python manage.py migrate\n",
    "```\n",
    "\n",
    "Después de esto, ya somos capaces de crear un **`super usuario`**:\n",
    "\n",
    "```python\n",
    "python manage.py createsuperuser\n",
    "```\n",
    "\n",
    "Luego de esto nos pedirá un nombre de usuario, un email y una contraseña.\n",
    "\n",
    "Ejecutamos el servidor otra vez y entramos a **`localhost:8000/admin/`**.\n",
    "\n",
    "Vamos a explorar un poco la página y crear un nuevo usuario manualmente."
   ]
  },
  {
   "cell_type": "code",
   "execution_count": null,
   "id": "842a81dc",
   "metadata": {},
   "outputs": [],
   "source": []
  }
 ],
 "metadata": {
  "kernelspec": {
   "display_name": "Python 3",
   "language": "python",
   "name": "python3"
  },
  "language_info": {
   "codemirror_mode": {
    "name": "ipython",
    "version": 3
   },
   "file_extension": ".py",
   "mimetype": "text/x-python",
   "name": "python",
   "nbconvert_exporter": "python",
   "pygments_lexer": "ipython3",
   "version": "3.8.8"
  }
 },
 "nbformat": 4,
 "nbformat_minor": 5
}
