{
 "cells": [
  {
   "cell_type": "markdown",
   "id": "60d9784d",
   "metadata": {},
   "source": [
    "# ViewSet\n",
    "\n",
    "Es un **`class-based view`** que nos facilitrá gestionar neustros **`endpoints`**, la ventaja de **`ViewSet`** es que puedo crear un fichero de rutas y pasarselo **`urls.py`** del proyecto. Vamos a cambiar la clase que heredaba de **`APIView`** para que ahora herede de **`ViewSet`**.\n",
    "\n",
    "```python\n",
    "from rest_framework.viewsets import ViewSet\n",
    "\n",
    "class PostViewSet(ViewSet):\n",
    "    def list(self, request):\n",
    "        serializer = PostSerializer(Post.objects.all(), many=True)\n",
    "        return Response(status=status.HTTP_200_OK, data = serializer.data)\n",
    "    \n",
    "    def create(self, request):\n",
    "        serializer = PostSerializer(data=request.POST)\n",
    "        serializer.is_valid(raise_exception=True)\n",
    "        serializer.save()\n",
    "        return Response(status=status.HTTP_200_OK, data = serializer.data)\n",
    "```\n",
    "\n",
    "- La unica diferencia es que ahora los métodos se llaman **`list()`** y **`create()`** para **`get()`** y **`post`** respectivamente. Además de que ahora heredamos de **`ViewSet`** y no de **`APIView`**.\n",
    "\n",
    "Ahora vamos a crear un fichero que contenga todos los **`url`** de esta nueva clase, vamos a crear un archivo llamado **`router.py`**:\n",
    "\n",
    "```python\n",
    "from rest_framework.routers import DefaultRouter\n",
    "from .views import PostViewSet\n",
    "\n",
    "router_posts = DefaultRouter()\n",
    "\n",
    "router_posts.register(prefix='posts', basename='posts', viewset=PostViewSet)\n",
    "```\n",
    "\n",
    "Con esas lineas ya tenemos todos los posibles **`url`** que se puedan generar.\n",
    "\n",
    "Ahora vamos a agregarlo a la lista de **`urls.py`** de **`proyecto_django`**:\n",
    "\n",
    "```python\n",
    "from posts.api.router import router_posts\n",
    "```\n",
    "\n",
    "*Y en la lista `urlpatterns`:*\n",
    "\n",
    "```python\n",
    "path('api/', include(router_posts.urls)),\n",
    "```\n",
    "\n",
    "Ahora vamos a agregar otro método que busque posts por **`pk`**, agregamos esto a la clase **`PostViewSet`**:\n",
    "\n",
    "```python\n",
    "def retrieve(self, request, pk: int):\n",
    "    post = PostSerializer(Post.objects.get(pk=pk))\n",
    "    return Response(status=status.HTTP_200_OK, data=post.data)\n",
    "```"
   ]
  },
  {
   "cell_type": "code",
   "execution_count": null,
   "id": "bc247979",
   "metadata": {},
   "outputs": [],
   "source": []
  }
 ],
 "metadata": {
  "kernelspec": {
   "display_name": "Python 3",
   "language": "python",
   "name": "python3"
  },
  "language_info": {
   "codemirror_mode": {
    "name": "ipython",
    "version": 3
   },
   "file_extension": ".py",
   "mimetype": "text/x-python",
   "name": "python",
   "nbconvert_exporter": "python",
   "pygments_lexer": "ipython3",
   "version": "3.8.8"
  }
 },
 "nbformat": 4,
 "nbformat_minor": 5
}
