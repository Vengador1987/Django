{
 "cells": [
  {
   "cell_type": "markdown",
   "id": "41b6cab1",
   "metadata": {},
   "source": [
    "# Serializers (Serializadores)\n",
    "\n",
    "Los serializadores sirven para gestionar los datos que entran y salen en los **`endpoints`**.\n",
    "\n",
    "Para poder crear estos serializadores vamos a crear un archivo llamado **`serializers.py`** dentro de **`api`** y este tendra:\n",
    "\n",
    "```python\n",
    "from rest_framework.serializers import ModelSerializer\n",
    "from blog.models import Post\n",
    "\n",
    "class PostSerializer(ModelSerializer):\n",
    "    class Meta:\n",
    "        model = Post\n",
    "        fields = ['author', 'title', 'content', 'date_posted']\n",
    "```\n",
    "\n",
    "La idea detras de este serializador es que cuando lo usemos éste pase o reciba exactamente estos campos.\n",
    "\n",
    "Para usarlo vamos a **`views.py`** y modificamos la clase **`PostApiView`**:\n",
    "\n",
    "```python\n",
    "from .serializers import PostSerializer\n",
    "\n",
    "class PostApiView(APIView):\n",
    "    def get(self, request):\n",
    "        serializer = PostSerializer(Post.objects.all(), many=True)\n",
    "        return Response(status=status.HTTP_200_OK, data = serializer.data)\n",
    "```\n",
    "\n",
    "Aunque parezca que estamos haciendo lo mismo, el serializador está recibiendo los datos que le queremos, es decir, los datos definidos en **`fields`**. Si quisieramos más o menos datos solo bastaria con quitar elemento de esa lista, así las **`\"consultas\"`** serán más especificas, y todo eso lo hariamos solamente modificando la lista dentro de la clase de **`serializers.py`**.\n",
    "\n",
    "## Método post()\n",
    "\n",
    "Ahora con el serializador, vamos a agregar el método **`post()`** para **`PostApiView`**:\n",
    "\n",
    "```python\n",
    "class PostApiView(APIView):\n",
    "    def get(self, request):\n",
    "        serializer = PostSerializer(Post.objects.all(), many=True)\n",
    "        return Response(status=status.HTTP_200_OK, data = serializer.data)\n",
    "    \n",
    "    def post(self, request):\n",
    "        serializer = PostSerializer(data=request.POST)\n",
    "        serializer.is_valid(raise_exception=True)\n",
    "        serializer.save()\n",
    "        return Response(status=status.HTTP_200_OK, data = serializer.data)\n",
    "```\n",
    "\n",
    "- **`.is_valid(raise_exception=True)`** valida la información que sale del serializador.\n",
    "- **`.save()`** guarda los datos en la tabla."
   ]
  },
  {
   "cell_type": "code",
   "execution_count": null,
   "id": "8f17a6e7",
   "metadata": {},
   "outputs": [],
   "source": []
  }
 ],
 "metadata": {
  "kernelspec": {
   "display_name": "Python 3",
   "language": "python",
   "name": "python3"
  },
  "language_info": {
   "codemirror_mode": {
    "name": "ipython",
    "version": 3
   },
   "file_extension": ".py",
   "mimetype": "text/x-python",
   "name": "python",
   "nbconvert_exporter": "python",
   "pygments_lexer": "ipython3",
   "version": "3.8.8"
  }
 },
 "nbformat": 4,
 "nbformat_minor": 5
}
