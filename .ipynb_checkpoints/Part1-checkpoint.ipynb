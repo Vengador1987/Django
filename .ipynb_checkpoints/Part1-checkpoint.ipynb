{
 "cells": [
  {
   "cell_type": "markdown",
   "id": "c230bab5",
   "metadata": {},
   "source": [
    "## Instalar Django\n",
    "Ir la terminal y ejecutar:\n",
    "\n",
    "```python\n",
    "pip install django\n",
    "```\n",
    "Con esto ya tendremos instalado **`django`**.\n",
    "\n",
    "\n",
    "Ahora podemos ejecutar:\n",
    "```python\n",
    "python -m django --version\n",
    "```\n",
    "Para ver que version de **`django`** tenemos instalado y verificar que se instaló correctamente.\n",
    "\n",
    "## Empezar un proyecto de django\n",
    "\n",
    "Vamos a la ruta del escritorio del ordenador y ejecutamos:\n",
    "```python\n",
    "django-admin startproject proyecto_django\n",
    "```\n",
    "Con esto creamos un nuevo proyecto llamado **`proyecto_django`**, podemos usar el nombre que queramos.\n",
    "\n",
    "Si vemos el escritorio tendremos un nuevo directorio creado con el nombre **`proyecto_django`**, esta carpeta tendrá lo necesario para comenzar un proyecto de django.\n",
    "\n",
    "Ahora veamos la estructura de este directorio; abrimos nuestro editor de texto (SublimeText, VisualStudio...) y arrastramos la carpeta **`proyecto_django`**.\n",
    "\n",
    "Vemos que tenemos el archivo **`manage.py`** y el directorio **`proyecto_django`**:\n",
    "\n",
    "- **`manage.py`**: Es una utilidad de línea de comandos, que nos permite interactuar con el proyecto de django de varias maneras. Por lo general este archivo no se modifica.\n",
    "\n",
    "\n",
    "- **`proyecto_django`**: Es un directorio con el nombre del proyecto que asignamos con el comando **`startproject`** y tiene 4 archivos diferentes con extension **`.py`**:\n",
    "\n",
    "    -**`__init__.py`**: Un archivo vacio que le indica a python que es este proyecto es un paquete de python.\n",
    "    \n",
    "    -**`settings.py`**: Es donde cambiaremos algunos ajustes y configuración del proyecto.\n",
    "    \n",
    "    -**`urls.py`**: Aquí es donde estableceremos las rutas de las urls que el usuario podrá recorrer. Por defecto este archivo viene con el path **`\"admin\"`**.\n",
    "    \n",
    "    -**`wsgi.py`**: Archivo que comunica a python con el servidor web. Por lo general este archivo no se modifica.\n",
    "    \n",
    "## Ejecutar el servidor\n",
    "\n",
    "Vamos a la consola y nos ubicamos en el directorio donde esta el archivo **`manage.py`** y ejecutamos la siguiente linea:\n",
    "\n",
    "```python\n",
    "python manage.py runserver\n",
    "```\n",
    "\n",
    "Al ejecutarlo tendremos la aplicación ejecutandose de forma local en **`http://127.0.0.1:8000/`** o **`localhost:8000/`**\n",
    "\n",
    "Con esto tendremos nuestro primer proyecto de django ejecutandose.\n",
    "\n",
    "**`Para detener el servidor ejecutamos Ctrl + C`**\n",
    "\n",
    "Después de ejecutar por primera vez nuestro proyecto, se creara un archivo llamado **`db.sqlite3`**"
   ]
  }
 ],
 "metadata": {
  "kernelspec": {
   "display_name": "Python 3 (ipykernel)",
   "language": "python",
   "name": "python3"
  },
  "language_info": {
   "codemirror_mode": {
    "name": "ipython",
    "version": 3
   },
   "file_extension": ".py",
   "mimetype": "text/x-python",
   "name": "python",
   "nbconvert_exporter": "python",
   "pygments_lexer": "ipython3",
   "version": "3.9.7"
  }
 },
 "nbformat": 4,
 "nbformat_minor": 5
}
