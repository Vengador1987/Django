{
 "cells": [
  {
   "cell_type": "markdown",
   "id": "123834fb",
   "metadata": {
    "tags": []
   },
   "source": [
    "# django RESTful framework\n",
    "\n",
    "```python\n",
    "pip install djangorestframework\n",
    "```\n",
    "\n",
    "**`Django REST Framework`** es un framework que nos permite el fácil desarrollo de una API REST en python.\n",
    "\n",
    "Para comenzar vamos a crear una nueva **`app`** y la llamaremos **`api`**:\n",
    "\n",
    "```python\n",
    "python manage.py startapp api\n",
    "```\n",
    "\n",
    "Y dentro de ella vamos al archivo **`views.py`** y escribimos nuestra priemra vista:\n",
    "\n",
    "```python\n",
    "from rest_framework import status\n",
    "from rest_framework.views import APIView\n",
    "from rest_framework.response import Response\n",
    "\n",
    "from blog.models import Post\n",
    "\n",
    "class PostApiView(APIView):\n",
    "    def get(self, request):\n",
    "        posts = Post.objects.values()\n",
    "\n",
    "        return Response(status=status.HTTP_200_OK, data = posts)\n",
    "```\n",
    "\n",
    "- **`APIView`** es una clase de la cual heredamos todos sus atributos y métodos, es una vista que viene predeterminada para **`django REST`**.\n",
    "\n",
    "\n",
    "- El método **`get()`** es el que nos va a retornar una lista de elementos.\n",
    "\n",
    "\n",
    "- Usamos **`Reponse()`** para retornar esos elementos en forma de **`JSON`**.\n",
    "\n",
    "\n",
    "- La libreria **`status`** nos ayuda a mostrar diferentes tipos de mensajes, como **`HTTP_200_OK`**, **`HTTP_400`**...\n",
    "\n",
    "\n",
    "- Importante usar **`.values()`** si no serializamos el objeto.\n",
    "\n",
    "Con este ejemplo vamos ahora a agregar el **`url`** a **`urls.py`** del proyecto, agregamos:\n",
    "\n",
    "```python\n",
    "from api import views as api_views\n",
    "```\n",
    "\n",
    "*Y en `urlpatterns`:*\n",
    "\n",
    "```python\n",
    "path('api/posts/', api_views.PostApiView.as_view()),\n",
    "```\n",
    "\n",
    "Para probar nuestro primero **`endpoint`** vamos a **`localhost:8000/api/posts`**.\n",
    "\n",
    "\n",
    "Al igual que las partes anteriores, estamos haciendo uso de **`class-based views`**, por lo que en las clases definidas por nosotros estamos heredando muchas funcionalidades de las clases que **`django rest framework`** tiene por defecto."
   ]
  },
  {
   "cell_type": "code",
   "execution_count": null,
   "id": "677d0dbe",
   "metadata": {},
   "outputs": [],
   "source": []
  }
 ],
 "metadata": {
  "kernelspec": {
   "display_name": "Python 3 (ipykernel)",
   "language": "python",
   "name": "python3"
  },
  "language_info": {
   "codemirror_mode": {
    "name": "ipython",
    "version": 3
   },
   "file_extension": ".py",
   "mimetype": "text/x-python",
   "name": "python",
   "nbconvert_exporter": "python",
   "pygments_lexer": "ipython3",
   "version": "3.9.7"
  }
 },
 "nbformat": 4,
 "nbformat_minor": 5
}
